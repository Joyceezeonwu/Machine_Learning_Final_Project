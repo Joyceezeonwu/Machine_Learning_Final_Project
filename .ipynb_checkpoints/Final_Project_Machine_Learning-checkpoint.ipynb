{
 "cells": [
  {
   "cell_type": "markdown",
   "id": "49dfe975",
   "metadata": {},
   "source": [
    "# Building a machine learning model that will identify customers that are eligible for loan or not.\n"
   ]
  },
  {
   "cell_type": "code",
   "execution_count": 259,
   "id": "d8491b0a",
   "metadata": {},
   "outputs": [],
   "source": [
    "import pandas as pd\n",
    "import numpy as np \n",
    "from sklearn.preprocessing import OneHotEncoder\n",
    "from sklearn.preprocessing import StandardScaler\n",
    "import seaborn as sns\n",
    "import matplotlib.pyplot as plt"
   ]
  },
  {
   "cell_type": "code",
   "execution_count": 260,
   "id": "1fc7ae40",
   "metadata": {},
   "outputs": [
    {
     "data": {
      "text/html": [
       "<div>\n",
       "<style scoped>\n",
       "    .dataframe tbody tr th:only-of-type {\n",
       "        vertical-align: middle;\n",
       "    }\n",
       "\n",
       "    .dataframe tbody tr th {\n",
       "        vertical-align: top;\n",
       "    }\n",
       "\n",
       "    .dataframe thead th {\n",
       "        text-align: right;\n",
       "    }\n",
       "</style>\n",
       "<table border=\"1\" class=\"dataframe\">\n",
       "  <thead>\n",
       "    <tr style=\"text-align: right;\">\n",
       "      <th></th>\n",
       "      <th>Loan_ID</th>\n",
       "      <th>Gender</th>\n",
       "      <th>Married</th>\n",
       "      <th>Dependents</th>\n",
       "      <th>Education</th>\n",
       "      <th>Self_Employed</th>\n",
       "      <th>ApplicantIncome</th>\n",
       "      <th>CoapplicantIncome</th>\n",
       "      <th>LoanAmount</th>\n",
       "      <th>Loan_Amount_Term</th>\n",
       "      <th>Credit_History</th>\n",
       "      <th>Property_Area</th>\n",
       "      <th>Loan_Status</th>\n",
       "    </tr>\n",
       "  </thead>\n",
       "  <tbody>\n",
       "    <tr>\n",
       "      <th>0</th>\n",
       "      <td>LP001002</td>\n",
       "      <td>Male</td>\n",
       "      <td>No</td>\n",
       "      <td>0</td>\n",
       "      <td>Graduate</td>\n",
       "      <td>No</td>\n",
       "      <td>5849</td>\n",
       "      <td>0.0</td>\n",
       "      <td>NaN</td>\n",
       "      <td>360.0</td>\n",
       "      <td>1.0</td>\n",
       "      <td>Urban</td>\n",
       "      <td>Y</td>\n",
       "    </tr>\n",
       "    <tr>\n",
       "      <th>1</th>\n",
       "      <td>LP001003</td>\n",
       "      <td>Male</td>\n",
       "      <td>Yes</td>\n",
       "      <td>1</td>\n",
       "      <td>Graduate</td>\n",
       "      <td>No</td>\n",
       "      <td>4583</td>\n",
       "      <td>1508.0</td>\n",
       "      <td>128.0</td>\n",
       "      <td>360.0</td>\n",
       "      <td>1.0</td>\n",
       "      <td>Rural</td>\n",
       "      <td>N</td>\n",
       "    </tr>\n",
       "    <tr>\n",
       "      <th>2</th>\n",
       "      <td>LP001005</td>\n",
       "      <td>Male</td>\n",
       "      <td>Yes</td>\n",
       "      <td>0</td>\n",
       "      <td>Graduate</td>\n",
       "      <td>Yes</td>\n",
       "      <td>3000</td>\n",
       "      <td>0.0</td>\n",
       "      <td>66.0</td>\n",
       "      <td>360.0</td>\n",
       "      <td>1.0</td>\n",
       "      <td>Urban</td>\n",
       "      <td>Y</td>\n",
       "    </tr>\n",
       "    <tr>\n",
       "      <th>3</th>\n",
       "      <td>LP001006</td>\n",
       "      <td>Male</td>\n",
       "      <td>Yes</td>\n",
       "      <td>0</td>\n",
       "      <td>Not Graduate</td>\n",
       "      <td>No</td>\n",
       "      <td>2583</td>\n",
       "      <td>2358.0</td>\n",
       "      <td>120.0</td>\n",
       "      <td>360.0</td>\n",
       "      <td>1.0</td>\n",
       "      <td>Urban</td>\n",
       "      <td>Y</td>\n",
       "    </tr>\n",
       "    <tr>\n",
       "      <th>4</th>\n",
       "      <td>LP001008</td>\n",
       "      <td>Male</td>\n",
       "      <td>No</td>\n",
       "      <td>0</td>\n",
       "      <td>Graduate</td>\n",
       "      <td>No</td>\n",
       "      <td>6000</td>\n",
       "      <td>0.0</td>\n",
       "      <td>141.0</td>\n",
       "      <td>360.0</td>\n",
       "      <td>1.0</td>\n",
       "      <td>Urban</td>\n",
       "      <td>Y</td>\n",
       "    </tr>\n",
       "  </tbody>\n",
       "</table>\n",
       "</div>"
      ],
      "text/plain": [
       "    Loan_ID Gender Married Dependents     Education Self_Employed  \\\n",
       "0  LP001002   Male      No          0      Graduate            No   \n",
       "1  LP001003   Male     Yes          1      Graduate            No   \n",
       "2  LP001005   Male     Yes          0      Graduate           Yes   \n",
       "3  LP001006   Male     Yes          0  Not Graduate            No   \n",
       "4  LP001008   Male      No          0      Graduate            No   \n",
       "\n",
       "   ApplicantIncome  CoapplicantIncome  LoanAmount  Loan_Amount_Term  \\\n",
       "0             5849                0.0         NaN             360.0   \n",
       "1             4583             1508.0       128.0             360.0   \n",
       "2             3000                0.0        66.0             360.0   \n",
       "3             2583             2358.0       120.0             360.0   \n",
       "4             6000                0.0       141.0             360.0   \n",
       "\n",
       "   Credit_History Property_Area Loan_Status  \n",
       "0             1.0         Urban           Y  \n",
       "1             1.0         Rural           N  \n",
       "2             1.0         Urban           Y  \n",
       "3             1.0         Urban           Y  \n",
       "4             1.0         Urban           Y  "
      ]
     },
     "execution_count": 260,
     "metadata": {},
     "output_type": "execute_result"
    }
   ],
   "source": [
    "# Loading my data and printing out a few lines. Perform operations to inspect data\n",
    "Loan_data = pd.read_csv('loan_data_set.csv')\n",
    "Loan_data.head()"
   ]
  },
  {
   "cell_type": "markdown",
   "id": "3e2841f4",
   "metadata": {},
   "source": [
    "# Exploratory Data Analysis\n",
    "\n",
    "Now we will check the size of the Data."
   ]
  },
  {
   "cell_type": "code",
   "execution_count": 261,
   "id": "2af7417b",
   "metadata": {},
   "outputs": [
    {
     "data": {
      "text/plain": [
       "(614, 13)"
      ]
     },
     "execution_count": 261,
     "metadata": {},
     "output_type": "execute_result"
    }
   ],
   "source": [
    "Loan_data.shape "
   ]
  },
  {
   "cell_type": "markdown",
   "id": "ce9fcc25",
   "metadata": {},
   "source": [
    "Checking the data types"
   ]
  },
  {
   "cell_type": "code",
   "execution_count": 262,
   "id": "1cc1cf12",
   "metadata": {},
   "outputs": [
    {
     "name": "stdout",
     "output_type": "stream",
     "text": [
      "<class 'pandas.core.frame.DataFrame'>\n",
      "RangeIndex: 614 entries, 0 to 613\n",
      "Data columns (total 13 columns):\n",
      " #   Column             Non-Null Count  Dtype  \n",
      "---  ------             --------------  -----  \n",
      " 0   Loan_ID            614 non-null    object \n",
      " 1   Gender             601 non-null    object \n",
      " 2   Married            611 non-null    object \n",
      " 3   Dependents         599 non-null    object \n",
      " 4   Education          614 non-null    object \n",
      " 5   Self_Employed      582 non-null    object \n",
      " 6   ApplicantIncome    614 non-null    int64  \n",
      " 7   CoapplicantIncome  614 non-null    float64\n",
      " 8   LoanAmount         592 non-null    float64\n",
      " 9   Loan_Amount_Term   600 non-null    float64\n",
      " 10  Credit_History     564 non-null    float64\n",
      " 11  Property_Area      614 non-null    object \n",
      " 12  Loan_Status        614 non-null    object \n",
      "dtypes: float64(4), int64(1), object(8)\n",
      "memory usage: 62.5+ KB\n"
     ]
    }
   ],
   "source": [
    "Loan_data.info()"
   ]
  },
  {
   "cell_type": "markdown",
   "id": "2812b1db",
   "metadata": {},
   "source": [
    "Now lets check how many null values are present in the data."
   ]
  },
  {
   "cell_type": "code",
   "execution_count": 263,
   "id": "ff7428b2",
   "metadata": {},
   "outputs": [
    {
     "data": {
      "text/plain": [
       "Credit_History       50\n",
       "Self_Employed        32\n",
       "LoanAmount           22\n",
       "Dependents           15\n",
       "Loan_Amount_Term     14\n",
       "Gender               13\n",
       "Married               3\n",
       "Loan_ID               0\n",
       "Education             0\n",
       "ApplicantIncome       0\n",
       "CoapplicantIncome     0\n",
       "Property_Area         0\n",
       "Loan_Status           0\n",
       "dtype: int64"
      ]
     },
     "execution_count": 263,
     "metadata": {},
     "output_type": "execute_result"
    }
   ],
   "source": [
    "Loan_data.isnull().sum().sort_values(ascending=False)"
   ]
  },
  {
   "cell_type": "markdown",
   "id": "7ad212f1",
   "metadata": {},
   "source": [
    "As,we can see we have a Loan_ID as a variable it does not provide any insight about the Data ,so we will remove it."
   ]
  },
  {
   "cell_type": "code",
   "execution_count": 264,
   "id": "75844458",
   "metadata": {},
   "outputs": [],
   "source": [
    "Loan_data.drop(\"Loan_ID\",axis=1,inplace=True)"
   ]
  },
  {
   "cell_type": "code",
   "execution_count": 265,
   "id": "cfb418a7",
   "metadata": {},
   "outputs": [
    {
     "name": "stdout",
     "output_type": "stream",
     "text": [
      "<class 'pandas.core.frame.DataFrame'>\n",
      "RangeIndex: 614 entries, 0 to 613\n",
      "Data columns (total 12 columns):\n",
      " #   Column             Non-Null Count  Dtype  \n",
      "---  ------             --------------  -----  \n",
      " 0   Gender             601 non-null    object \n",
      " 1   Married            611 non-null    object \n",
      " 2   Dependents         599 non-null    object \n",
      " 3   Education          614 non-null    object \n",
      " 4   Self_Employed      582 non-null    object \n",
      " 5   ApplicantIncome    614 non-null    int64  \n",
      " 6   CoapplicantIncome  614 non-null    float64\n",
      " 7   LoanAmount         592 non-null    float64\n",
      " 8   Loan_Amount_Term   600 non-null    float64\n",
      " 9   Credit_History     564 non-null    float64\n",
      " 10  Property_Area      614 non-null    object \n",
      " 11  Loan_Status        614 non-null    object \n",
      "dtypes: float64(4), int64(1), object(7)\n",
      "memory usage: 57.7+ KB\n"
     ]
    }
   ],
   "source": [
    "Loan_data.info()"
   ]
  },
  {
   "cell_type": "markdown",
   "id": "aca8df94",
   "metadata": {},
   "source": [
    "Checking for duplicated rows\n"
   ]
  },
  {
   "cell_type": "code",
   "execution_count": 266,
   "id": "c0aa5085",
   "metadata": {},
   "outputs": [
    {
     "data": {
      "text/plain": [
       "0"
      ]
     },
     "execution_count": 266,
     "metadata": {},
     "output_type": "execute_result"
    }
   ],
   "source": [
    "Loan_data.duplicated().sum()"
   ]
  },
  {
   "cell_type": "markdown",
   "id": "55ef388e",
   "metadata": {},
   "source": [
    "Now ,we would like to find the statistics like Count,mean,mode,stf,quantiles..etc. of all our Features/Variables."
   ]
  },
  {
   "cell_type": "code",
   "execution_count": 267,
   "id": "8abad6f7",
   "metadata": {},
   "outputs": [
    {
     "data": {
      "text/html": [
       "<div>\n",
       "<style scoped>\n",
       "    .dataframe tbody tr th:only-of-type {\n",
       "        vertical-align: middle;\n",
       "    }\n",
       "\n",
       "    .dataframe tbody tr th {\n",
       "        vertical-align: top;\n",
       "    }\n",
       "\n",
       "    .dataframe thead th {\n",
       "        text-align: right;\n",
       "    }\n",
       "</style>\n",
       "<table border=\"1\" class=\"dataframe\">\n",
       "  <thead>\n",
       "    <tr style=\"text-align: right;\">\n",
       "      <th></th>\n",
       "      <th>ApplicantIncome</th>\n",
       "      <th>CoapplicantIncome</th>\n",
       "      <th>LoanAmount</th>\n",
       "      <th>Loan_Amount_Term</th>\n",
       "      <th>Credit_History</th>\n",
       "    </tr>\n",
       "  </thead>\n",
       "  <tbody>\n",
       "    <tr>\n",
       "      <th>count</th>\n",
       "      <td>614.000000</td>\n",
       "      <td>614.000000</td>\n",
       "      <td>592.000000</td>\n",
       "      <td>600.00000</td>\n",
       "      <td>564.000000</td>\n",
       "    </tr>\n",
       "    <tr>\n",
       "      <th>mean</th>\n",
       "      <td>5403.459283</td>\n",
       "      <td>1621.245798</td>\n",
       "      <td>146.412162</td>\n",
       "      <td>342.00000</td>\n",
       "      <td>0.842199</td>\n",
       "    </tr>\n",
       "    <tr>\n",
       "      <th>std</th>\n",
       "      <td>6109.041673</td>\n",
       "      <td>2926.248369</td>\n",
       "      <td>85.587325</td>\n",
       "      <td>65.12041</td>\n",
       "      <td>0.364878</td>\n",
       "    </tr>\n",
       "    <tr>\n",
       "      <th>min</th>\n",
       "      <td>150.000000</td>\n",
       "      <td>0.000000</td>\n",
       "      <td>9.000000</td>\n",
       "      <td>12.00000</td>\n",
       "      <td>0.000000</td>\n",
       "    </tr>\n",
       "    <tr>\n",
       "      <th>25%</th>\n",
       "      <td>2877.500000</td>\n",
       "      <td>0.000000</td>\n",
       "      <td>100.000000</td>\n",
       "      <td>360.00000</td>\n",
       "      <td>1.000000</td>\n",
       "    </tr>\n",
       "    <tr>\n",
       "      <th>50%</th>\n",
       "      <td>3812.500000</td>\n",
       "      <td>1188.500000</td>\n",
       "      <td>128.000000</td>\n",
       "      <td>360.00000</td>\n",
       "      <td>1.000000</td>\n",
       "    </tr>\n",
       "    <tr>\n",
       "      <th>75%</th>\n",
       "      <td>5795.000000</td>\n",
       "      <td>2297.250000</td>\n",
       "      <td>168.000000</td>\n",
       "      <td>360.00000</td>\n",
       "      <td>1.000000</td>\n",
       "    </tr>\n",
       "    <tr>\n",
       "      <th>max</th>\n",
       "      <td>81000.000000</td>\n",
       "      <td>41667.000000</td>\n",
       "      <td>700.000000</td>\n",
       "      <td>480.00000</td>\n",
       "      <td>1.000000</td>\n",
       "    </tr>\n",
       "  </tbody>\n",
       "</table>\n",
       "</div>"
      ],
      "text/plain": [
       "       ApplicantIncome  CoapplicantIncome  LoanAmount  Loan_Amount_Term  \\\n",
       "count       614.000000         614.000000  592.000000         600.00000   \n",
       "mean       5403.459283        1621.245798  146.412162         342.00000   \n",
       "std        6109.041673        2926.248369   85.587325          65.12041   \n",
       "min         150.000000           0.000000    9.000000          12.00000   \n",
       "25%        2877.500000           0.000000  100.000000         360.00000   \n",
       "50%        3812.500000        1188.500000  128.000000         360.00000   \n",
       "75%        5795.000000        2297.250000  168.000000         360.00000   \n",
       "max       81000.000000       41667.000000  700.000000         480.00000   \n",
       "\n",
       "       Credit_History  \n",
       "count      564.000000  \n",
       "mean         0.842199  \n",
       "std          0.364878  \n",
       "min          0.000000  \n",
       "25%          1.000000  \n",
       "50%          1.000000  \n",
       "75%          1.000000  \n",
       "max          1.000000  "
      ]
     },
     "execution_count": 267,
     "metadata": {},
     "output_type": "execute_result"
    }
   ],
   "source": [
    "Loan_data.describe()"
   ]
  },
  {
   "cell_type": "markdown",
   "id": "e290167f",
   "metadata": {},
   "source": [
    "Viewing the column names of our Data Frame."
   ]
  },
  {
   "cell_type": "code",
   "execution_count": 268,
   "id": "2b062539",
   "metadata": {},
   "outputs": [
    {
     "data": {
      "text/plain": [
       "Index(['Gender', 'Married', 'Dependents', 'Education', 'Self_Employed',\n",
       "       'ApplicantIncome', 'CoapplicantIncome', 'LoanAmount',\n",
       "       'Loan_Amount_Term', 'Credit_History', 'Property_Area', 'Loan_Status'],\n",
       "      dtype='object')"
      ]
     },
     "execution_count": 268,
     "metadata": {},
     "output_type": "execute_result"
    }
   ],
   "source": [
    "Loan_data.columns"
   ]
  },
  {
   "cell_type": "code",
   "execution_count": 269,
   "id": "9bba2ef4",
   "metadata": {},
   "outputs": [],
   "source": [
    "#Rename selected column names\n",
    "Loan_data = Loan_data.rename(columns={\"ApplicantIncome\" : \"Applicant_Income\", \"CoapplicantIncome\" : \"Coapplicant_Income\", \"LoanAmount\" : \"Loan_Amount\"})"
   ]
  },
  {
   "cell_type": "markdown",
   "id": "8c4d5ff4",
   "metadata": {},
   "source": [
    "# Plotting and finding Insights."
   ]
  },
  {
   "cell_type": "markdown",
   "id": "6079da1a",
   "metadata": {},
   "source": [
    "As,we know the credit history variable is an object type lets convert it into object."
   ]
  },
  {
   "cell_type": "code",
   "execution_count": 270,
   "id": "68a74c12",
   "metadata": {},
   "outputs": [],
   "source": [
    "Loan_data['Credit_History']=Loan_data[\"Credit_History\"].astype(\"object\")"
   ]
  },
  {
   "cell_type": "code",
   "execution_count": 271,
   "id": "139d8633",
   "metadata": {},
   "outputs": [
    {
     "name": "stdout",
     "output_type": "stream",
     "text": [
      "<class 'pandas.core.frame.DataFrame'>\n",
      "RangeIndex: 614 entries, 0 to 613\n",
      "Data columns (total 12 columns):\n",
      " #   Column              Non-Null Count  Dtype  \n",
      "---  ------              --------------  -----  \n",
      " 0   Gender              601 non-null    object \n",
      " 1   Married             611 non-null    object \n",
      " 2   Dependents          599 non-null    object \n",
      " 3   Education           614 non-null    object \n",
      " 4   Self_Employed       582 non-null    object \n",
      " 5   Applicant_Income    614 non-null    int64  \n",
      " 6   Coapplicant_Income  614 non-null    float64\n",
      " 7   Loan_Amount         592 non-null    float64\n",
      " 8   Loan_Amount_Term    600 non-null    float64\n",
      " 9   Credit_History      564 non-null    object \n",
      " 10  Property_Area       614 non-null    object \n",
      " 11  Loan_Status         614 non-null    object \n",
      "dtypes: float64(3), int64(1), object(8)\n",
      "memory usage: 57.7+ KB\n"
     ]
    }
   ],
   "source": [
    "Loan_data.info()"
   ]
  },
  {
   "cell_type": "markdown",
   "id": "1c942d19",
   "metadata": {},
   "source": [
    "#### Plotting a countplot of loan status"
   ]
  },
  {
   "cell_type": "code",
   "execution_count": 272,
   "id": "4ad3bc60",
   "metadata": {},
   "outputs": [
    {
     "name": "stderr",
     "output_type": "stream",
     "text": [
      "C:\\Users\\JOYCE\\anaconda3\\lib\\site-packages\\seaborn\\_decorators.py:36: FutureWarning: Pass the following variable as a keyword arg: x. From version 0.12, the only valid positional argument will be `data`, and passing other arguments without an explicit keyword will result in an error or misinterpretation.\n",
      "  warnings.warn(\n"
     ]
    },
    {
     "data": {
      "text/plain": [
       "<seaborn.axisgrid.FacetGrid at 0x2a5af19ca90>"
      ]
     },
     "execution_count": 272,
     "metadata": {},
     "output_type": "execute_result"
    },
    {
     "data": {
      "image/png": "[encoded data removed]",
      "text/plain": [
       "<Figure size 432x288 with 1 Axes>"
      ]
     },
     "metadata": {
      "needs_background": "light"
     },
     "output_type": "display_data"
    }
   ],
   "source": [
    "#Loan Status.\n",
    "figsize=(7,3)\n",
    "sns.countplot(Loan_data[\"Loan_Status\"])                      \n",
    "grid.add_legend()"
   ]
  },
  {
   "cell_type": "markdown",
   "id": "47f658a4",
   "metadata": {},
   "source": [
    "The plot above shows that there are more cases of accepting a loan and less case of rejecting a loan.\n",
    "\n",
    "Approximately loan accept is more then 50% of the loan rejected in the Bank."
   ]
  },
  {
   "cell_type": "markdown",
   "id": "2a0131cc",
   "metadata": {},
   "source": [
    "#### Plotting a countplot of credit history"
   ]
  },
  {
   "cell_type": "code",
   "execution_count": 273,
   "id": "2317b30d",
   "metadata": {},
   "outputs": [
    {
     "name": "stderr",
     "output_type": "stream",
     "text": [
      "C:\\Users\\JOYCE\\anaconda3\\lib\\site-packages\\seaborn\\axisgrid.py:670: UserWarning: Using the countplot function without specifying `order` is likely to produce an incorrect plot.\n",
      "  warnings.warn(warning)\n"
     ]
    },
    {
     "data": {
      "text/plain": [
       "<seaborn.axisgrid.FacetGrid at 0x2a59ed09430>"
      ]
     },
     "execution_count": 273,
     "metadata": {},
     "output_type": "execute_result"
    },
    {
     "data": {
      "image/png": "[encoded data removed]",
      "text/plain": [
       "<Figure size 504x252 with 2 Axes>"
      ]
     },
     "metadata": {
      "needs_background": "light"
     },
     "output_type": "display_data"
    }
   ],
   "source": [
    "#Credit_History\n",
    "grid=sns.FacetGrid(Loan_data,col=\"Loan_Status\",height=3.5)\n",
    "grid.map(sns.countplot,\"Credit_History\")"
   ]
  },
  {
   "cell_type": "markdown",
   "id": "6baa7f64",
   "metadata": {},
   "source": [
    "This is the countplot(frequency of Data) of Credit History with Loan Status divided in the Facetgrid.\n",
    "\n",
    "The people who have a credit score 1 have a better chance to get a loan."
   ]
  },
  {
   "cell_type": "markdown",
   "id": "7c9935d8",
   "metadata": {},
   "source": [
    "#### Plotting a countplot of gender with their loan status"
   ]
  },
  {
   "cell_type": "code",
   "execution_count": 274,
   "id": "fc7c81c2",
   "metadata": {},
   "outputs": [
    {
     "data": {
      "image/png": "[encoded data removed]",
      "text/plain": [
       "<Figure size 512x252 with 2 Axes>"
      ]
     },
     "metadata": {
      "needs_background": "light"
     },
     "output_type": "display_data"
    }
   ],
   "source": [
    "#Gender\n",
    "grid=sns.FacetGrid(Loan_data, col=\"Loan_Status\", height=3.5)\n",
    "grid.map(sns.countplot,\"Gender\", order=['Male', 'Female'])\n",
    "grid.add_legend()\n",
    "grid.savefig(\"facet_plot.png\")"
   ]
  },
  {
   "cell_type": "code",
   "execution_count": 275,
   "id": "a110214f",
   "metadata": {},
   "outputs": [],
   "source": [
    "# Mapping the target variable \"Loan_Status\" so that Y is 1 and N is 0, so as to check that it correlates with other numerical columns\n",
    "Loan_data[\"Loan_Status\"] = Loan_data[\"Loan_Status\"].map({\"Y\" : 1, \"N\": 0})"
   ]
  },
  {
   "cell_type": "code",
   "execution_count": 276,
   "id": "cdd0e5b3",
   "metadata": {},
   "outputs": [
    {
     "data": {
      "text/plain": [
       "Index(['Applicant_Income', 'Coapplicant_Income', 'Loan_Amount',\n",
       "       'Loan_Amount_Term', 'Loan_Status'],\n",
       "      dtype='object')"
      ]
     },
     "execution_count": 276,
     "metadata": {},
     "output_type": "execute_result"
    }
   ],
   "source": [
    "numerical_cols = Loan_data.select_dtypes(\"number\").columns\n",
    "numerical_cols"
   ]
  },
  {
   "cell_type": "code",
   "execution_count": 277,
   "id": "5e685533",
   "metadata": {},
   "outputs": [
    {
     "data": {
      "text/plain": [
       "Loan_Status           1.000000\n",
       "Applicant_Income     -0.004710\n",
       "Loan_Amount_Term     -0.021268\n",
       "Loan_Amount          -0.037318\n",
       "Coapplicant_Income   -0.059187\n",
       "Name: Loan_Status, dtype: float64"
      ]
     },
     "execution_count": 277,
     "metadata": {},
     "output_type": "execute_result"
    }
   ],
   "source": [
    "# The Loan_Status column seems to be the stand out column here, it has a positive correlation with the target variable and its closer to 1\n",
    "# so we might consider credit_column has a feature that will determine loan eligibility\n",
    "Loan_data.corr()[\"Loan_Status\"].sort_values(ascending= False)"
   ]
  },
  {
   "cell_type": "code",
   "execution_count": 278,
   "id": "b6547983",
   "metadata": {},
   "outputs": [
    {
     "data": {
      "image/png": "[encoded data removed]",
      "text/plain": [
       "<Figure size 1152x864 with 6 Axes>"
      ]
     },
     "metadata": {
      "needs_background": "light"
     },
     "output_type": "display_data"
    }
   ],
   "source": [
    "Loan_data[numerical_cols].hist(figsize=(16, 12));"
   ]
  },
  {
   "cell_type": "markdown",
   "id": "09fda827",
   "metadata": {},
   "source": [
    "### From the histogram above we can see that the columns \"Coapplicant_Income\" and \"Applicant_Income\" are rightly skewed just like the dataframe.describe has indicated that there might be extreme values in those columns, we can still explore this further"
   ]
  },
  {
   "cell_type": "code",
   "execution_count": 279,
   "id": "f76c66a0",
   "metadata": {},
   "outputs": [
    {
     "data": {
      "text/plain": [
       "Coapplicant_Income    7.491531\n",
       "Applicant_Income      6.539513\n",
       "Loan_Amount           2.677552\n",
       "Loan_Status          -0.809998\n",
       "Loan_Amount_Term     -2.362414\n",
       "dtype: float64"
      ]
     },
     "execution_count": 279,
     "metadata": {},
     "output_type": "execute_result"
    }
   ],
   "source": [
    "# The \"Coapplicant_Income\" and \"Applicant_Income\" columns have the highest skewed values\n",
    "Loan_data[numerical_cols].skew().sort_values(ascending= False)"
   ]
  },
  {
   "cell_type": "code",
   "execution_count": 280,
   "id": "a8301159",
   "metadata": {},
   "outputs": [],
   "source": [
    "skewed_cols = [\"Coapplicant_Income\", \"Applicant_Income\"]"
   ]
  },
  {
   "cell_type": "code",
   "execution_count": 281,
   "id": "b7fe8ee7",
   "metadata": {},
   "outputs": [
    {
     "data": {
      "image/png": "[encoded data removed]",
      "text/plain": [
       "<Figure size 432x288 with 2 Axes>"
      ]
     },
     "metadata": {
      "needs_background": "light"
     },
     "output_type": "display_data"
    }
   ],
   "source": [
    "sns.heatmap(data=Loan_data.corr(), cmap=\"inferno\");"
   ]
  },
  {
   "cell_type": "markdown",
   "id": "e2960c81",
   "metadata": {},
   "source": [
    "### The heatmap above shows that the loan amount has a positive correlation with applicant income."
   ]
  },
  {
   "cell_type": "code",
   "execution_count": 282,
   "id": "270352fa",
   "metadata": {},
   "outputs": [],
   "source": [
    "# Checking for outliers in the dataset\n",
    "def outliers_func():\n",
    "        outliers_cols = []\n",
    "    \n",
    "        for col in Loan_data.select_dtypes(\"number\"): \n",
    "            q1 = Loan_data[col].quantile(.25)\n",
    "            q3 = Loan_data[col].quantile(.75)\n",
    "            iqr = q3 - q1\n",
    "            lower_out= (Loan_data[col] < (q1 - (1.5*iqr))).sum()\n",
    "            upper_out = (Loan_data[col]  > (q3 + (1.5*iqr))).sum()\n",
    "\n",
    "            if lower_out > 0 or upper_out > 0 :\n",
    "                outliers_cols.append(col)\n",
    "\n",
    "        return outliers_cols"
   ]
  },
  {
   "cell_type": "code",
   "execution_count": 283,
   "id": "4acda19d",
   "metadata": {},
   "outputs": [],
   "source": [
    "# calling the outliers function\n",
    "outlier_columns = outliers_func()"
   ]
  },
  {
   "cell_type": "code",
   "execution_count": 284,
   "id": "fe53cea9",
   "metadata": {},
   "outputs": [
    {
     "data": {
      "image/png": "[encoded data removed]",
      "text/plain": [
       "<Figure size 1152x864 with 4 Axes>"
      ]
     },
     "metadata": {
      "needs_background": "light"
     },
     "output_type": "display_data"
    }
   ],
   "source": [
    "# Visualizing the boxplot for the columns with outliers\n",
    "\n",
    "plt.figure(figsize=(16,12))\n",
    "for index, col in enumerate(outlier_columns):\n",
    "    plt.subplot(2,5, index+1)\n",
    "    sns.boxplot(y=Loan_data[col])\n",
    "plt.tight_layout()\n",
    "plt.show()"
   ]
  },
  {
   "cell_type": "code",
   "execution_count": 285,
   "id": "131afb42",
   "metadata": {},
   "outputs": [
    {
     "name": "stderr",
     "output_type": "stream",
     "text": [
      "C:\\Users\\JOYCE\\anaconda3\\lib\\site-packages\\pandas\\core\\algorithms.py:798: FutureWarning: In a future version, the Index constructor will not infer numeric dtypes when passed object-dtype sequences (matching Series behavior)\n",
      "  uniques = Index(uniques)\n"
     ]
    }
   ],
   "source": [
    "categorical_col = Loan_data.select_dtypes(\"object\")\n",
    "categorical_col = pd.get_dummies(categorical_col)"
   ]
  },
  {
   "cell_type": "code",
   "execution_count": 286,
   "id": "d6cbdc56",
   "metadata": {},
   "outputs": [
    {
     "data": {
      "text/html": [
       "<div>\n",
       "<style scoped>\n",
       "    .dataframe tbody tr th:only-of-type {\n",
       "        vertical-align: middle;\n",
       "    }\n",
       "\n",
       "    .dataframe tbody tr th {\n",
       "        vertical-align: top;\n",
       "    }\n",
       "\n",
       "    .dataframe thead th {\n",
       "        text-align: right;\n",
       "    }\n",
       "</style>\n",
       "<table border=\"1\" class=\"dataframe\">\n",
       "  <thead>\n",
       "    <tr style=\"text-align: right;\">\n",
       "      <th></th>\n",
       "      <th>Gender_Female</th>\n",
       "      <th>Gender_Male</th>\n",
       "      <th>Married_No</th>\n",
       "      <th>Married_Yes</th>\n",
       "      <th>Dependents_0</th>\n",
       "      <th>Dependents_1</th>\n",
       "      <th>Dependents_2</th>\n",
       "      <th>Dependents_3+</th>\n",
       "      <th>Education_Graduate</th>\n",
       "      <th>Education_Not Graduate</th>\n",
       "      <th>Self_Employed_No</th>\n",
       "      <th>Self_Employed_Yes</th>\n",
       "      <th>Credit_History_0.0</th>\n",
       "      <th>Credit_History_1.0</th>\n",
       "      <th>Property_Area_Rural</th>\n",
       "      <th>Property_Area_Semiurban</th>\n",
       "      <th>Property_Area_Urban</th>\n",
       "    </tr>\n",
       "  </thead>\n",
       "  <tbody>\n",
       "    <tr>\n",
       "      <th>0</th>\n",
       "      <td>0</td>\n",
       "      <td>1</td>\n",
       "      <td>1</td>\n",
       "      <td>0</td>\n",
       "      <td>1</td>\n",
       "      <td>0</td>\n",
       "      <td>0</td>\n",
       "      <td>0</td>\n",
       "      <td>1</td>\n",
       "      <td>0</td>\n",
       "      <td>1</td>\n",
       "      <td>0</td>\n",
       "      <td>0</td>\n",
       "      <td>1</td>\n",
       "      <td>0</td>\n",
       "      <td>0</td>\n",
       "      <td>1</td>\n",
       "    </tr>\n",
       "    <tr>\n",
       "      <th>1</th>\n",
       "      <td>0</td>\n",
       "      <td>1</td>\n",
       "      <td>0</td>\n",
       "      <td>1</td>\n",
       "      <td>0</td>\n",
       "      <td>1</td>\n",
       "      <td>0</td>\n",
       "      <td>0</td>\n",
       "      <td>1</td>\n",
       "      <td>0</td>\n",
       "      <td>1</td>\n",
       "      <td>0</td>\n",
       "      <td>0</td>\n",
       "      <td>1</td>\n",
       "      <td>1</td>\n",
       "      <td>0</td>\n",
       "      <td>0</td>\n",
       "    </tr>\n",
       "    <tr>\n",
       "      <th>2</th>\n",
       "      <td>0</td>\n",
       "      <td>1</td>\n",
       "      <td>0</td>\n",
       "      <td>1</td>\n",
       "      <td>1</td>\n",
       "      <td>0</td>\n",
       "      <td>0</td>\n",
       "      <td>0</td>\n",
       "      <td>1</td>\n",
       "      <td>0</td>\n",
       "      <td>0</td>\n",
       "      <td>1</td>\n",
       "      <td>0</td>\n",
       "      <td>1</td>\n",
       "      <td>0</td>\n",
       "      <td>0</td>\n",
       "      <td>1</td>\n",
       "    </tr>\n",
       "    <tr>\n",
       "      <th>3</th>\n",
       "      <td>0</td>\n",
       "      <td>1</td>\n",
       "      <td>0</td>\n",
       "      <td>1</td>\n",
       "      <td>1</td>\n",
       "      <td>0</td>\n",
       "      <td>0</td>\n",
       "      <td>0</td>\n",
       "      <td>0</td>\n",
       "      <td>1</td>\n",
       "      <td>1</td>\n",
       "      <td>0</td>\n",
       "      <td>0</td>\n",
       "      <td>1</td>\n",
       "      <td>0</td>\n",
       "      <td>0</td>\n",
       "      <td>1</td>\n",
       "    </tr>\n",
       "    <tr>\n",
       "      <th>4</th>\n",
       "      <td>0</td>\n",
       "      <td>1</td>\n",
       "      <td>1</td>\n",
       "      <td>0</td>\n",
       "      <td>1</td>\n",
       "      <td>0</td>\n",
       "      <td>0</td>\n",
       "      <td>0</td>\n",
       "      <td>1</td>\n",
       "      <td>0</td>\n",
       "      <td>1</td>\n",
       "      <td>0</td>\n",
       "      <td>0</td>\n",
       "      <td>1</td>\n",
       "      <td>0</td>\n",
       "      <td>0</td>\n",
       "      <td>1</td>\n",
       "    </tr>\n",
       "  </tbody>\n",
       "</table>\n",
       "</div>"
      ],
      "text/plain": [
       "   Gender_Female  Gender_Male  Married_No  Married_Yes  Dependents_0  \\\n",
       "0              0            1           1            0             1   \n",
       "1              0            1           0            1             0   \n",
       "2              0            1           0            1             1   \n",
       "3              0            1           0            1             1   \n",
       "4              0            1           1            0             1   \n",
       "\n",
       "   Dependents_1  Dependents_2  Dependents_3+  Education_Graduate  \\\n",
       "0             0             0              0                   1   \n",
       "1             1             0              0                   1   \n",
       "2             0             0              0                   1   \n",
       "3             0             0              0                   0   \n",
       "4             0             0              0                   1   \n",
       "\n",
       "   Education_Not Graduate  Self_Employed_No  Self_Employed_Yes  \\\n",
       "0                       0                 1                  0   \n",
       "1                       0                 1                  0   \n",
       "2                       0                 0                  1   \n",
       "3                       1                 1                  0   \n",
       "4                       0                 1                  0   \n",
       "\n",
       "   Credit_History_0.0  Credit_History_1.0  Property_Area_Rural  \\\n",
       "0                   0                   1                    0   \n",
       "1                   0                   1                    1   \n",
       "2                   0                   1                    0   \n",
       "3                   0                   1                    0   \n",
       "4                   0                   1                    0   \n",
       "\n",
       "   Property_Area_Semiurban  Property_Area_Urban  \n",
       "0                        0                    1  \n",
       "1                        0                    0  \n",
       "2                        0                    1  \n",
       "3                        0                    1  \n",
       "4                        0                    1  "
      ]
     },
     "execution_count": 286,
     "metadata": {},
     "output_type": "execute_result"
    }
   ],
   "source": [
    "categorical_col.head()"
   ]
  },
  {
   "cell_type": "markdown",
   "id": "09b66494",
   "metadata": {},
   "source": [
    "### Let's work on the categorical data and numerical data seperately now ."
   ]
  },
  {
   "cell_type": "code",
   "execution_count": 287,
   "id": "95ea47d3",
   "metadata": {},
   "outputs": [],
   "source": [
    "categorical_data=[]\n",
    "Numerical_data=[]\n",
    "\n",
    "for i,c in enumerate(Loan_data.dtypes):\n",
    "  if c==object:\n",
    "    categorical_data.append(Loan_data.iloc[:,i])\n",
    "  else:\n",
    "      Numerical_data.append(Loan_data.iloc[:,i])"
   ]
  },
  {
   "cell_type": "code",
   "execution_count": 288,
   "id": "67ab36f9",
   "metadata": {},
   "outputs": [],
   "source": [
    "categorical_data=pd.DataFrame(categorical_data).transpose()\n",
    "Numerical_data=pd.DataFrame(Numerical_data).transpose()"
   ]
  },
  {
   "cell_type": "markdown",
   "id": "9dcc6038",
   "metadata": {},
   "source": [
    "#### Now lets see how our Categorical Data looks like."
   ]
  },
  {
   "cell_type": "code",
   "execution_count": 289,
   "id": "69ec68ec",
   "metadata": {},
   "outputs": [
    {
     "data": {
      "text/html": [
       "<div>\n",
       "<style scoped>\n",
       "    .dataframe tbody tr th:only-of-type {\n",
       "        vertical-align: middle;\n",
       "    }\n",
       "\n",
       "    .dataframe tbody tr th {\n",
       "        vertical-align: top;\n",
       "    }\n",
       "\n",
       "    .dataframe thead th {\n",
       "        text-align: right;\n",
       "    }\n",
       "</style>\n",
       "<table border=\"1\" class=\"dataframe\">\n",
       "  <thead>\n",
       "    <tr style=\"text-align: right;\">\n",
       "      <th></th>\n",
       "      <th>Gender</th>\n",
       "      <th>Married</th>\n",
       "      <th>Dependents</th>\n",
       "      <th>Education</th>\n",
       "      <th>Self_Employed</th>\n",
       "      <th>Credit_History</th>\n",
       "      <th>Property_Area</th>\n",
       "    </tr>\n",
       "  </thead>\n",
       "  <tbody>\n",
       "    <tr>\n",
       "      <th>0</th>\n",
       "      <td>Male</td>\n",
       "      <td>No</td>\n",
       "      <td>0</td>\n",
       "      <td>Graduate</td>\n",
       "      <td>No</td>\n",
       "      <td>1.0</td>\n",
       "      <td>Urban</td>\n",
       "    </tr>\n",
       "    <tr>\n",
       "      <th>1</th>\n",
       "      <td>Male</td>\n",
       "      <td>Yes</td>\n",
       "      <td>1</td>\n",
       "      <td>Graduate</td>\n",
       "      <td>No</td>\n",
       "      <td>1.0</td>\n",
       "      <td>Rural</td>\n",
       "    </tr>\n",
       "    <tr>\n",
       "      <th>2</th>\n",
       "      <td>Male</td>\n",
       "      <td>Yes</td>\n",
       "      <td>0</td>\n",
       "      <td>Graduate</td>\n",
       "      <td>Yes</td>\n",
       "      <td>1.0</td>\n",
       "      <td>Urban</td>\n",
       "    </tr>\n",
       "    <tr>\n",
       "      <th>3</th>\n",
       "      <td>Male</td>\n",
       "      <td>Yes</td>\n",
       "      <td>0</td>\n",
       "      <td>Not Graduate</td>\n",
       "      <td>No</td>\n",
       "      <td>1.0</td>\n",
       "      <td>Urban</td>\n",
       "    </tr>\n",
       "    <tr>\n",
       "      <th>4</th>\n",
       "      <td>Male</td>\n",
       "      <td>No</td>\n",
       "      <td>0</td>\n",
       "      <td>Graduate</td>\n",
       "      <td>No</td>\n",
       "      <td>1.0</td>\n",
       "      <td>Urban</td>\n",
       "    </tr>\n",
       "  </tbody>\n",
       "</table>\n",
       "</div>"
      ],
      "text/plain": [
       "  Gender Married Dependents     Education Self_Employed Credit_History  \\\n",
       "0   Male      No          0      Graduate            No            1.0   \n",
       "1   Male     Yes          1      Graduate            No            1.0   \n",
       "2   Male     Yes          0      Graduate           Yes            1.0   \n",
       "3   Male     Yes          0  Not Graduate            No            1.0   \n",
       "4   Male      No          0      Graduate            No            1.0   \n",
       "\n",
       "  Property_Area  \n",
       "0         Urban  \n",
       "1         Rural  \n",
       "2         Urban  \n",
       "3         Urban  \n",
       "4         Urban  "
      ]
     },
     "execution_count": 289,
     "metadata": {},
     "output_type": "execute_result"
    }
   ],
   "source": [
    "categorical_data.head()"
   ]
  },
  {
   "cell_type": "markdown",
   "id": "2017e6ab",
   "metadata": {},
   "source": [
    "#### Now lets see how our Numerical Data looks like."
   ]
  },
  {
   "cell_type": "code",
   "execution_count": 290,
   "id": "a2d71756",
   "metadata": {},
   "outputs": [
    {
     "data": {
      "text/html": [
       "<div>\n",
       "<style scoped>\n",
       "    .dataframe tbody tr th:only-of-type {\n",
       "        vertical-align: middle;\n",
       "    }\n",
       "\n",
       "    .dataframe tbody tr th {\n",
       "        vertical-align: top;\n",
       "    }\n",
       "\n",
       "    .dataframe thead th {\n",
       "        text-align: right;\n",
       "    }\n",
       "</style>\n",
       "<table border=\"1\" class=\"dataframe\">\n",
       "  <thead>\n",
       "    <tr style=\"text-align: right;\">\n",
       "      <th></th>\n",
       "      <th>Applicant_Income</th>\n",
       "      <th>Coapplicant_Income</th>\n",
       "      <th>Loan_Amount</th>\n",
       "      <th>Loan_Amount_Term</th>\n",
       "      <th>Loan_Status</th>\n",
       "    </tr>\n",
       "  </thead>\n",
       "  <tbody>\n",
       "    <tr>\n",
       "      <th>0</th>\n",
       "      <td>5849.0</td>\n",
       "      <td>0.0</td>\n",
       "      <td>NaN</td>\n",
       "      <td>360.0</td>\n",
       "      <td>1.0</td>\n",
       "    </tr>\n",
       "    <tr>\n",
       "      <th>1</th>\n",
       "      <td>4583.0</td>\n",
       "      <td>1508.0</td>\n",
       "      <td>128.0</td>\n",
       "      <td>360.0</td>\n",
       "      <td>0.0</td>\n",
       "    </tr>\n",
       "    <tr>\n",
       "      <th>2</th>\n",
       "      <td>3000.0</td>\n",
       "      <td>0.0</td>\n",
       "      <td>66.0</td>\n",
       "      <td>360.0</td>\n",
       "      <td>1.0</td>\n",
       "    </tr>\n",
       "    <tr>\n",
       "      <th>3</th>\n",
       "      <td>2583.0</td>\n",
       "      <td>2358.0</td>\n",
       "      <td>120.0</td>\n",
       "      <td>360.0</td>\n",
       "      <td>1.0</td>\n",
       "    </tr>\n",
       "    <tr>\n",
       "      <th>4</th>\n",
       "      <td>6000.0</td>\n",
       "      <td>0.0</td>\n",
       "      <td>141.0</td>\n",
       "      <td>360.0</td>\n",
       "      <td>1.0</td>\n",
       "    </tr>\n",
       "  </tbody>\n",
       "</table>\n",
       "</div>"
      ],
      "text/plain": [
       "   Applicant_Income  Coapplicant_Income  Loan_Amount  Loan_Amount_Term  \\\n",
       "0            5849.0                 0.0          NaN             360.0   \n",
       "1            4583.0              1508.0        128.0             360.0   \n",
       "2            3000.0                 0.0         66.0             360.0   \n",
       "3            2583.0              2358.0        120.0             360.0   \n",
       "4            6000.0                 0.0        141.0             360.0   \n",
       "\n",
       "   Loan_Status  \n",
       "0          1.0  \n",
       "1          0.0  \n",
       "2          1.0  \n",
       "3          1.0  \n",
       "4          1.0  "
      ]
     },
     "execution_count": 290,
     "metadata": {},
     "output_type": "execute_result"
    }
   ],
   "source": [
    "Numerical_data.head()"
   ]
  },
  {
   "cell_type": "markdown",
   "id": "c6702473",
   "metadata": {},
   "source": [
    "#### Now,here we want to fill our Null values in the Categorical Data by the most number of repeated values in that Feature Column."
   ]
  },
  {
   "cell_type": "code",
   "execution_count": 332,
   "id": "a36564c0",
   "metadata": {},
   "outputs": [
    {
     "data": {
      "text/plain": [
       "False"
      ]
     },
     "execution_count": 332,
     "metadata": {},
     "output_type": "execute_result"
    }
   ],
   "source": [
    "categorical_data=categorical_data.apply(lambda x:x.fillna(x.value_counts().index[0]))\n",
    "categorical_data.isnull().sum().any()"
   ]
  },
  {
   "cell_type": "markdown",
   "id": "22a8277e",
   "metadata": {},
   "source": [
    "#### Now, in Case of our Numerical Data we will fill the Null values with the Help of Mean of that Feature/variable Column because an average explains the Data more precisely"
   ]
  },
  {
   "cell_type": "code",
   "execution_count": 292,
   "id": "6f4226f9",
   "metadata": {},
   "outputs": [
    {
     "data": {
      "text/plain": [
       "False"
      ]
     },
     "execution_count": 292,
     "metadata": {},
     "output_type": "execute_result"
    }
   ],
   "source": [
    "Numerical_data=Numerical_data.apply(lambda x:x.fillna(x.mean()))\n",
    "Numerical_data.isnull().sum().any()"
   ]
  },
  {
   "cell_type": "markdown",
   "id": "272a39da",
   "metadata": {},
   "source": [
    "#### Now we will import our LabelEncoder so that we can encode our Categorical Data into the o and 1 so that further it will be easy to know the correlation among them with the help of correlation matrix.\n",
    "\n",
    "#### Here,using the fit_transform we are applying the Label_encoding in one go with fitting and transforming."
   ]
  },
  {
   "cell_type": "code",
   "execution_count": 293,
   "id": "6797bed9",
   "metadata": {},
   "outputs": [],
   "source": [
    "from sklearn.preprocessing import LabelEncoder\n",
    "LE=LabelEncoder()\n",
    "\n",
    "for i in categorical_data:\n",
    " categorical_data[i]=LE.fit_transform(categorical_data[i])\n"
   ]
  },
  {
   "cell_type": "code",
   "execution_count": 294,
   "id": "2bd0d809",
   "metadata": {},
   "outputs": [
    {
     "data": {
      "text/html": [
       "<div>\n",
       "<style scoped>\n",
       "    .dataframe tbody tr th:only-of-type {\n",
       "        vertical-align: middle;\n",
       "    }\n",
       "\n",
       "    .dataframe tbody tr th {\n",
       "        vertical-align: top;\n",
       "    }\n",
       "\n",
       "    .dataframe thead th {\n",
       "        text-align: right;\n",
       "    }\n",
       "</style>\n",
       "<table border=\"1\" class=\"dataframe\">\n",
       "  <thead>\n",
       "    <tr style=\"text-align: right;\">\n",
       "      <th></th>\n",
       "      <th>Gender</th>\n",
       "      <th>Married</th>\n",
       "      <th>Dependents</th>\n",
       "      <th>Education</th>\n",
       "      <th>Self_Employed</th>\n",
       "      <th>Credit_History</th>\n",
       "      <th>Property_Area</th>\n",
       "    </tr>\n",
       "  </thead>\n",
       "  <tbody>\n",
       "    <tr>\n",
       "      <th>0</th>\n",
       "      <td>1</td>\n",
       "      <td>0</td>\n",
       "      <td>0</td>\n",
       "      <td>0</td>\n",
       "      <td>0</td>\n",
       "      <td>1</td>\n",
       "      <td>2</td>\n",
       "    </tr>\n",
       "    <tr>\n",
       "      <th>1</th>\n",
       "      <td>1</td>\n",
       "      <td>1</td>\n",
       "      <td>1</td>\n",
       "      <td>0</td>\n",
       "      <td>0</td>\n",
       "      <td>1</td>\n",
       "      <td>0</td>\n",
       "    </tr>\n",
       "    <tr>\n",
       "      <th>2</th>\n",
       "      <td>1</td>\n",
       "      <td>1</td>\n",
       "      <td>0</td>\n",
       "      <td>0</td>\n",
       "      <td>1</td>\n",
       "      <td>1</td>\n",
       "      <td>2</td>\n",
       "    </tr>\n",
       "    <tr>\n",
       "      <th>3</th>\n",
       "      <td>1</td>\n",
       "      <td>1</td>\n",
       "      <td>0</td>\n",
       "      <td>1</td>\n",
       "      <td>0</td>\n",
       "      <td>1</td>\n",
       "      <td>2</td>\n",
       "    </tr>\n",
       "    <tr>\n",
       "      <th>4</th>\n",
       "      <td>1</td>\n",
       "      <td>0</td>\n",
       "      <td>0</td>\n",
       "      <td>0</td>\n",
       "      <td>0</td>\n",
       "      <td>1</td>\n",
       "      <td>2</td>\n",
       "    </tr>\n",
       "  </tbody>\n",
       "</table>\n",
       "</div>"
      ],
      "text/plain": [
       "   Gender  Married  Dependents  Education  Self_Employed  Credit_History  \\\n",
       "0       1        0           0          0              0               1   \n",
       "1       1        1           1          0              0               1   \n",
       "2       1        1           0          0              1               1   \n",
       "3       1        1           0          1              0               1   \n",
       "4       1        0           0          0              0               1   \n",
       "\n",
       "   Property_Area  \n",
       "0              2  \n",
       "1              0  \n",
       "2              2  \n",
       "3              2  \n",
       "4              2  "
      ]
     },
     "execution_count": 294,
     "metadata": {},
     "output_type": "execute_result"
    }
   ],
   "source": [
    "categorical_data.head()"
   ]
  },
  {
   "cell_type": "markdown",
   "id": "b6532097",
   "metadata": {},
   "source": [
    "#### Now let us plot the correlation matrix."
   ]
  },
  {
   "cell_type": "code",
   "execution_count": 295,
   "id": "66808874",
   "metadata": {},
   "outputs": [
    {
     "data": {
      "text/plain": [
       "<AxesSubplot:title={'center':'Correlation Matrix'}>"
      ]
     },
     "execution_count": 295,
     "metadata": {},
     "output_type": "execute_result"
    },
    {
     "data": {
      "image/png": "[encoded data removed]",
      "text/plain": [
       "<Figure size 720x504 with 2 Axes>"
      ]
     },
     "metadata": {
      "needs_background": "light"
     },
     "output_type": "display_data"
    }
   ],
   "source": [
    "plt.figure(figsize=(10,7))\n",
    "plt.title(\"Correlation Matrix\")\n",
    "sns.heatmap(Loan_data.corr(),annot=True,)"
   ]
  },
  {
   "cell_type": "markdown",
   "id": "bb72fece",
   "metadata": {},
   "source": [
    "### We have seen no feature pose a high correlation with any other feature so there is no need to club or remove any feature.\n",
    "\n",
    "### Though loan amount and application income have a good correlation."
   ]
  },
  {
   "cell_type": "markdown",
   "id": "25c8dbad",
   "metadata": {},
   "source": [
    "## Data prepocessing Stage"
   ]
  },
  {
   "cell_type": "code",
   "execution_count": 296,
   "id": "0b9aa2fa",
   "metadata": {},
   "outputs": [],
   "source": [
    "from sklearn.preprocessing import StandardScaler\n",
    "scaler = StandardScaler()"
   ]
  },
  {
   "cell_type": "code",
   "execution_count": 297,
   "id": "4e001569",
   "metadata": {},
   "outputs": [],
   "source": [
    "# Transforming the skewed columns\n",
    "Loan_data[skewed_cols] = Loan_data[skewed_cols].apply(lambda x: np.log(x + 1))"
   ]
  },
  {
   "cell_type": "code",
   "execution_count": 298,
   "id": "fb393ca6",
   "metadata": {},
   "outputs": [
    {
     "data": {
      "image/png": "[encoded data removed]",
      "text/plain": [
       "<Figure size 576x432 with 2 Axes>"
      ]
     },
     "metadata": {
      "needs_background": "light"
     },
     "output_type": "display_data"
    }
   ],
   "source": [
    "Loan_data[skewed_cols].hist(figsize=(8, 6));"
   ]
  },
  {
   "cell_type": "markdown",
   "id": "5c411c8b",
   "metadata": {},
   "source": [
    "#### The figure above shows that the columns have been transformed nicely"
   ]
  },
  {
   "cell_type": "code",
   "execution_count": 299,
   "id": "ea2ac7ca",
   "metadata": {},
   "outputs": [
    {
     "data": {
      "text/html": [
       "<div>\n",
       "<style scoped>\n",
       "    .dataframe tbody tr th:only-of-type {\n",
       "        vertical-align: middle;\n",
       "    }\n",
       "\n",
       "    .dataframe tbody tr th {\n",
       "        vertical-align: top;\n",
       "    }\n",
       "\n",
       "    .dataframe thead th {\n",
       "        text-align: right;\n",
       "    }\n",
       "</style>\n",
       "<table border=\"1\" class=\"dataframe\">\n",
       "  <thead>\n",
       "    <tr style=\"text-align: right;\">\n",
       "      <th></th>\n",
       "      <th>Applicant_Income</th>\n",
       "      <th>Coapplicant_Income</th>\n",
       "      <th>Loan_Amount</th>\n",
       "      <th>Loan_Amount_Term</th>\n",
       "    </tr>\n",
       "  </thead>\n",
       "  <tbody>\n",
       "    <tr>\n",
       "      <th>0</th>\n",
       "      <td>0.516186</td>\n",
       "      <td>-1.107783</td>\n",
       "      <td>NaN</td>\n",
       "      <td>0.276642</td>\n",
       "    </tr>\n",
       "    <tr>\n",
       "      <th>1</th>\n",
       "      <td>0.137806</td>\n",
       "      <td>0.782158</td>\n",
       "      <td>-0.215309</td>\n",
       "      <td>0.276642</td>\n",
       "    </tr>\n",
       "    <tr>\n",
       "      <th>2</th>\n",
       "      <td>-0.519479</td>\n",
       "      <td>-1.107783</td>\n",
       "      <td>-0.940328</td>\n",
       "      <td>0.276642</td>\n",
       "    </tr>\n",
       "    <tr>\n",
       "      <th>3</th>\n",
       "      <td>-0.751605</td>\n",
       "      <td>0.897526</td>\n",
       "      <td>-0.308860</td>\n",
       "      <td>0.276642</td>\n",
       "    </tr>\n",
       "    <tr>\n",
       "      <th>4</th>\n",
       "      <td>0.555727</td>\n",
       "      <td>-1.107783</td>\n",
       "      <td>-0.063289</td>\n",
       "      <td>0.276642</td>\n",
       "    </tr>\n",
       "    <tr>\n",
       "      <th>...</th>\n",
       "      <td>...</td>\n",
       "      <td>...</td>\n",
       "      <td>...</td>\n",
       "      <td>...</td>\n",
       "    </tr>\n",
       "    <tr>\n",
       "      <th>609</th>\n",
       "      <td>-0.572062</td>\n",
       "      <td>-1.107783</td>\n",
       "      <td>-0.881859</td>\n",
       "      <td>0.276642</td>\n",
       "    </tr>\n",
       "    <tr>\n",
       "      <th>610</th>\n",
       "      <td>-0.032679</td>\n",
       "      <td>-1.107783</td>\n",
       "      <td>-1.244368</td>\n",
       "      <td>-2.489775</td>\n",
       "    </tr>\n",
       "    <tr>\n",
       "      <th>611</th>\n",
       "      <td>1.015921</td>\n",
       "      <td>0.308483</td>\n",
       "      <td>1.246423</td>\n",
       "      <td>0.276642</td>\n",
       "    </tr>\n",
       "    <tr>\n",
       "      <th>612</th>\n",
       "      <td>0.918972</td>\n",
       "      <td>-1.107783</td>\n",
       "      <td>0.474628</td>\n",
       "      <td>0.276642</td>\n",
       "    </tr>\n",
       "    <tr>\n",
       "      <th>613</th>\n",
       "      <td>0.137806</td>\n",
       "      <td>-1.107783</td>\n",
       "      <td>-0.156840</td>\n",
       "      <td>0.276642</td>\n",
       "    </tr>\n",
       "  </tbody>\n",
       "</table>\n",
       "<p>614 rows × 4 columns</p>\n",
       "</div>"
      ],
      "text/plain": [
       "     Applicant_Income  Coapplicant_Income  Loan_Amount  Loan_Amount_Term\n",
       "0            0.516186           -1.107783          NaN          0.276642\n",
       "1            0.137806            0.782158    -0.215309          0.276642\n",
       "2           -0.519479           -1.107783    -0.940328          0.276642\n",
       "3           -0.751605            0.897526    -0.308860          0.276642\n",
       "4            0.555727           -1.107783    -0.063289          0.276642\n",
       "..                ...                 ...          ...               ...\n",
       "609         -0.572062           -1.107783    -0.881859          0.276642\n",
       "610         -0.032679           -1.107783    -1.244368         -2.489775\n",
       "611          1.015921            0.308483     1.246423          0.276642\n",
       "612          0.918972           -1.107783     0.474628          0.276642\n",
       "613          0.137806           -1.107783    -0.156840          0.276642\n",
       "\n",
       "[614 rows x 4 columns]"
      ]
     },
     "execution_count": 299,
     "metadata": {},
     "output_type": "execute_result"
    }
   ],
   "source": [
    "# Scaling the columns with outliers\n",
    "Loan_data[outlier_columns] = scaler.fit_transform(Loan_data[outlier_columns])\n",
    "Loan_data[outlier_columns]"
   ]
  },
  {
   "cell_type": "markdown",
   "id": "c6f00617",
   "metadata": {},
   "source": [
    "# Modelling"
   ]
  },
  {
   "cell_type": "code",
   "execution_count": 300,
   "id": "50e5f5d3",
   "metadata": {},
   "outputs": [],
   "source": [
    "from sklearn.linear_model import LogisticRegression\n",
    "from sklearn.tree import DecisionTreeClassifier\n",
    "from sklearn.ensemble import RandomForestClassifier\n",
    "from sklearn.svm import SVC\n",
    "from sklearn.metrics import f1_score\n",
    "from sklearn.metrics import fbeta_score\n",
    "from sklearn.metrics import accuracy_score\n",
    "from sklearn.metrics import precision_score\n",
    "from sklearn.model_selection import train_test_split"
   ]
  },
  {
   "cell_type": "code",
   "execution_count": 301,
   "id": "844bf7a4",
   "metadata": {},
   "outputs": [],
   "source": [
    "# split dataset into training and testing data\n",
    "from sklearn.model_selection import train_test_split\n",
    "X=pd.concat([categorical_data,Numerical_data],axis=1)\n"
   ]
  },
  {
   "cell_type": "code",
   "execution_count": 302,
   "id": "6e67443c",
   "metadata": {},
   "outputs": [
    {
     "data": {
      "text/plain": [
       "1    422\n",
       "0    192\n",
       "Name: Loan_Status, dtype: int64"
      ]
     },
     "execution_count": 302,
     "metadata": {},
     "output_type": "execute_result"
    }
   ],
   "source": [
    "target.value_counts()"
   ]
  },
  {
   "cell_type": "code",
   "execution_count": 305,
   "id": "919f5dd6",
   "metadata": {},
   "outputs": [],
   "source": [
    "X_train, X_test, y_train, y_test = train_test_split(predictor_variables, target, test_size= 0.2, random_state= 42)"
   ]
  },
  {
   "cell_type": "code",
   "execution_count": 306,
   "id": "17019872",
   "metadata": {},
   "outputs": [],
   "source": [
    "# Putting models in a dictionary\n",
    "models = {\n",
    "    \"Logistic Regression\": LogisticRegression(),\n",
    "    \"DecisionTree Classifier\": DecisionTreeClassifier(),\n",
    "    \"Random Forest\": RandomForestClassifier(),\n",
    "    \"SVC\": SVC()\n",
    "}"
   ]
  },
  {
   "cell_type": "code",
   "execution_count": 307,
   "id": "76c9b839",
   "metadata": {},
   "outputs": [],
   "source": [
    "def fit_predict_and_score(models, X_train, X_test, y_train, y_test):\n",
    "    \"This fuction fit, predict and score the models using accuracy score\"\n",
    "    # making a dictionary to to keep model scores\n",
    "    model_scores = {}\n",
    "    \n",
    "    # looping through models\n",
    "    for name, model in models.items():\n",
    "        # fit the model to the data\n",
    "        model.fit(X_train, y_train)\n",
    "        training_predict = model.predict(X_train)\n",
    "        testing_predict = model.predict(X_test)\n",
    "        training_accuracy = accuracy_score(training_predict, y_train)\n",
    "        testing_accuracy = accuracy_score(testing_predict, y_test)\n",
    "        model_scores[name] = f\" has a  score of {training_accuracy} on training set and a score of {testing_accuracy} on testing set\"\n",
    "    return model_scores\n",
    "        "
   ]
  },
  {
   "cell_type": "code",
   "execution_count": 309,
   "id": "a1d357c7",
   "metadata": {},
   "outputs": [],
   "source": [
    "# The logistic Regression and the SVC(support Vector Classifier) perform better among the models\n",
    "#fit_predict_and_score(models, X_train, X_test, y_train, y_test)"
   ]
  },
  {
   "cell_type": "code",
   "execution_count": null,
   "id": "191419d8",
   "metadata": {},
   "outputs": [],
   "source": [
    "grid_model.best_estimator_.score(X_test , y_test)"
   ]
  }
 ],
 "metadata": {
  "kernelspec": {
   "display_name": "Python 3 (ipykernel)",
   "language": "python",
   "name": "python3"
  },
  "language_info": {
   "codemirror_mode": {
    "name": "ipython",
    "version": 3
   },
   "file_extension": ".py",
   "mimetype": "text/x-python",
   "name": "python",
   "nbconvert_exporter": "python",
   "pygments_lexer": "ipython3",
   "version": "3.9.12"
  }
 },
 "nbformat": 4,
 "nbformat_minor": 5
}
